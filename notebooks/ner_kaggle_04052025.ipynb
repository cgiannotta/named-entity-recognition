{
 "cells": [
  {
   "cell_type": "code",
   "execution_count": 1,
   "metadata": {},
   "outputs": [],
   "source": [
    "import pandas as pd\n",
    "import numpy as np\n",
    "import matplotlib.pyplot as plt"
   ]
  },
  {
   "cell_type": "code",
   "execution_count": 5,
   "metadata": {},
   "outputs": [],
   "source": [
    "# inputs\n",
    "full_data_fp = \"../data/ner.csv\"\n",
    "\n",
    "# outputs\n",
    "train_save_fp = \"../data/train.csv\"\n",
    "test_save_fp = \"../data/test.csv\""
   ]
  },
  {
   "cell_type": "code",
   "execution_count": 6,
   "metadata": {},
   "outputs": [
    {
     "name": "stdout",
     "output_type": "stream",
     "text": [
      "(47959, 2)\n"
     ]
    },
    {
     "data": {
      "text/html": [
       "<div>\n",
       "<style scoped>\n",
       "    .dataframe tbody tr th:only-of-type {\n",
       "        vertical-align: middle;\n",
       "    }\n",
       "\n",
       "    .dataframe tbody tr th {\n",
       "        vertical-align: top;\n",
       "    }\n",
       "\n",
       "    .dataframe thead th {\n",
       "        text-align: right;\n",
       "    }\n",
       "</style>\n",
       "<table border=\"1\" class=\"dataframe\">\n",
       "  <thead>\n",
       "    <tr style=\"text-align: right;\">\n",
       "      <th></th>\n",
       "      <th>text</th>\n",
       "      <th>labels</th>\n",
       "    </tr>\n",
       "  </thead>\n",
       "  <tbody>\n",
       "    <tr>\n",
       "      <th>0</th>\n",
       "      <td>Thousands of demonstrators have marched throug...</td>\n",
       "      <td>O O O O O O B-geo O O O O O B-geo O O O O O B-...</td>\n",
       "    </tr>\n",
       "    <tr>\n",
       "      <th>1</th>\n",
       "      <td>Iranian officials say they expect to get acces...</td>\n",
       "      <td>B-gpe O O O O O O O O O O O O O O B-tim O O O ...</td>\n",
       "    </tr>\n",
       "    <tr>\n",
       "      <th>2</th>\n",
       "      <td>Helicopter gunships Saturday pounded militant ...</td>\n",
       "      <td>O O B-tim O O O O O B-geo O O O O O B-org O O ...</td>\n",
       "    </tr>\n",
       "    <tr>\n",
       "      <th>3</th>\n",
       "      <td>They left after a tense hour-long standoff wit...</td>\n",
       "      <td>O O O O O O O O O O O</td>\n",
       "    </tr>\n",
       "    <tr>\n",
       "      <th>4</th>\n",
       "      <td>U.N. relief coordinator Jan Egeland said Sunda...</td>\n",
       "      <td>B-geo O O B-per I-per O B-tim O B-geo O B-gpe ...</td>\n",
       "    </tr>\n",
       "  </tbody>\n",
       "</table>\n",
       "</div>"
      ],
      "text/plain": [
       "                                                text  \\\n",
       "0  Thousands of demonstrators have marched throug...   \n",
       "1  Iranian officials say they expect to get acces...   \n",
       "2  Helicopter gunships Saturday pounded militant ...   \n",
       "3  They left after a tense hour-long standoff wit...   \n",
       "4  U.N. relief coordinator Jan Egeland said Sunda...   \n",
       "\n",
       "                                              labels  \n",
       "0  O O O O O O B-geo O O O O O B-geo O O O O O B-...  \n",
       "1  B-gpe O O O O O O O O O O O O O O B-tim O O O ...  \n",
       "2  O O B-tim O O O O O B-geo O O O O O B-org O O ...  \n",
       "3                              O O O O O O O O O O O  \n",
       "4  B-geo O O B-per I-per O B-tim O B-geo O B-gpe ...  "
      ]
     },
     "execution_count": 6,
     "metadata": {},
     "output_type": "execute_result"
    }
   ],
   "source": [
    "df = pd.read_csv(full_data_fp)\n",
    "print(df.shape)\n",
    "df.head()"
   ]
  },
  {
   "cell_type": "code",
   "execution_count": 7,
   "metadata": {},
   "outputs": [
    {
     "data": {
      "text/plain": [
       "text      0\n",
       "labels    0\n",
       "dtype: int64"
      ]
     },
     "execution_count": 7,
     "metadata": {},
     "output_type": "execute_result"
    }
   ],
   "source": [
    "df.isna().sum()"
   ]
  },
  {
   "cell_type": "code",
   "execution_count": 8,
   "metadata": {},
   "outputs": [
    {
     "data": {
      "text/plain": [
       "text      object\n",
       "labels    object\n",
       "dtype: object"
      ]
     },
     "execution_count": 8,
     "metadata": {},
     "output_type": "execute_result"
    }
   ],
   "source": [
    "df.dtypes"
   ]
  },
  {
   "cell_type": "code",
   "execution_count": 16,
   "metadata": {},
   "outputs": [
    {
     "name": "stdout",
     "output_type": "stream",
     "text": [
      "text: In Lebanon , hundreds of thousands of Shi'ite Muslims marched through southern Beirut Thursday to commemorate the death of a revered leader and to protest cartoons of the Prophet Muhammad .\n",
      "labels: O B-geo O O O O O O O O O O B-geo B-tim O O O O O O O O O O O O O O B-org I-org O\n",
      "\n",
      "text: Kosovo has been under U.N. administration since 1999 .\n",
      "labels: B-geo O O O B-geo O B-tim I-tim O\n",
      "\n",
      "text: The seizure came hours after the government and the rebels agreed to hold a new round of peace talks in Switzerland , easing fears that the country may slide back into full-scale civil war .\n",
      "labels: O O O O O O O O O O O O O O O O O O O O B-geo O O O O O O O O O O O O O O\n",
      "\n",
      "text: Poverty has remained around 15-20 % for nearly 20 years , and the strong social safety net that had been put into place by the government has eroded due to increased financial constraints on government expenditures .\n",
      "labels: O O O O O O O O B-tim O O O O O O O O O O O O O O O O O O O O O O O O O O O O\n",
      "\n",
      "text: Mr. Karzai has reached out to Taliban leaders , asking those not involved with al-Qaida to lay down their weapons and join the government .\n",
      "labels: B-per I-per O O O O B-org O O O O O O O B-org O O O O O O O O O O\n",
      "\n",
      "text: The Turks and Caicos economy is based on tourism , offshore financial services , and fishing .\n",
      "labels: O B-gpe O O O O O O O O O O O O O O O\n",
      "\n",
      "text: The RIA-Novosti news service says the probe centers on allegations that Barinov used his post at Lukoil to purchase several apartments illegally through the company .\n",
      "labels: O O O O O O O O O O O B-per O O O O B-tim O O O O O O O O O\n",
      "\n",
      "text: The sick duck came from a commercial farm near Vancouver .\n",
      "labels: O O O O O O O O O B-geo O\n",
      "\n",
      "text: In Hiroshima , Japan , tens of thousands of people gathered Saturday to reflect on the explosion exactly 60 years before of an atom bomb in the sky above the city .\n",
      "labels: O B-geo O B-geo O O O O O O O B-tim O O O O O O O O O O O O O O O O O O O O\n",
      "\n",
      "text: EU foreign ministers say Hamas must take those two steps to ensure aid is not suspended .\n",
      "labels: B-org O O O B-org O O O O O O O O O O O O\n",
      "\n",
      "text: Ayatollah Ahmad Jannati told state media Friday that Iran is not afraid of such sanctions .\n",
      "labels: B-per I-per I-per O O O B-tim O B-geo O O O O O O O\n",
      "\n",
      "text: Critics say the extensive probe is politically motivated because Mr. Khodorkovsky was a supporter of the political opposition .\n",
      "labels: O O O O O O O O O B-per I-per O O O O O O O O\n",
      "\n",
      "text: Authorities say Rizvan Chitigov was killed Wednesday in a special operation in Chechnya 's Shali district .\n",
      "labels: O O B-per I-per O O B-tim O O O O O B-geo O B-geo O O\n",
      "\n",
      "text: Washington accuses Tehran of using its ongoing nuclear program as a cover for efforts to develop an atomic weapon .\n",
      "labels: B-geo O B-geo O O O O O O O O O O O O O O O O O\n",
      "\n",
      "text: With over 90 percent of the vote counted , the electoral court says that 64 percent of those who went to the polls voted against the ban in Sunday 's referendum , while 36 percent favored it .\n",
      "labels: O O O O O O O O O O O O O O O O O O O O O O O O O O O O B-tim O O O O O O O O O\n",
      "\n",
      "text: Mr. Castro announced the dollar ban two weeks ago .\n",
      "labels: B-per I-per O O O O B-tim O O O\n",
      "\n",
      "text: U.N. Environment Program researchers said overuse , salt water intrusion , sewage and agricultural runoff as well as hazardous medical waste in Gaza landfills is contributing to the situation .\n",
      "labels: B-org I-org I-org O O O O O O O O O O O O O O O O O O O B-geo O O O O O O O\n",
      "\n",
      "text: Officials say turnout was high for the referendum .\n",
      "labels: O O O O O O O O O\n",
      "\n",
      "text: British Foreign Secretary Jack Straw called the Andijan crackdown a clear abuse of human rights .\n",
      "labels: B-gpe O B-per I-per I-per O O B-geo O O O O O O O O\n",
      "\n",
      "text: Meanwhile , the chief U.S. negotiator at stalled nuclear talks , Christopher Hill , says North Korea is blocking progress in the negotiations .\n",
      "labels: O O O O B-geo O O O O O O B-per I-per O O B-geo I-geo O O O O O O O\n",
      "\n"
     ]
    }
   ],
   "source": [
    "nrows = 20\n",
    "for row in df.sample(nrows).values:\n",
    "    print(f\"text: {row[0]}\\nlabels: {row[1]}\\n\")"
   ]
  },
  {
   "cell_type": "code",
   "execution_count": 10,
   "metadata": {},
   "outputs": [
    {
     "data": {
      "text/plain": [
       "'O O O O O O B-geo O O O O O B-geo O O O O O B-gpe O O O O O'"
      ]
     },
     "execution_count": 10,
     "metadata": {},
     "output_type": "execute_result"
    }
   ],
   "source": [
    "label1 = df[\"labels\"].values[0]\n",
    "label1"
   ]
  },
  {
   "cell_type": "code",
   "execution_count": 14,
   "metadata": {},
   "outputs": [],
   "source": [
    "def process_labels(label_text: str) -> list:\n",
    "    text_split = [0 if t == \"O\" else t for t in label_text.split()]\n",
    "    return text_split\n",
    "    "
   ]
  },
  {
   "cell_type": "code",
   "execution_count": null,
   "metadata": {},
   "outputs": [
    {
     "data": {
      "text/plain": [
       "['O',\n",
       " 'O',\n",
       " 'O',\n",
       " 'O',\n",
       " 'O',\n",
       " 'O',\n",
       " 'B-geo',\n",
       " 'O',\n",
       " 'O',\n",
       " 'O',\n",
       " 'O',\n",
       " 'O',\n",
       " 'B-geo',\n",
       " 'O',\n",
       " 'O',\n",
       " 'O',\n",
       " 'O',\n",
       " 'O',\n",
       " 'B-gpe',\n",
       " 'O',\n",
       " 'O',\n",
       " 'O',\n",
       " 'O',\n",
       " 'O']"
      ]
     },
     "execution_count": 13,
     "metadata": {},
     "output_type": "execute_result"
    }
   ],
   "source": [
    "df"
   ]
  },
  {
   "cell_type": "code",
   "execution_count": null,
   "metadata": {},
   "outputs": [],
   "source": []
  }
 ],
 "metadata": {
  "kernelspec": {
   "display_name": "base",
   "language": "python",
   "name": "python3"
  },
  "language_info": {
   "codemirror_mode": {
    "name": "ipython",
    "version": 3
   },
   "file_extension": ".py",
   "mimetype": "text/x-python",
   "name": "python",
   "nbconvert_exporter": "python",
   "pygments_lexer": "ipython3",
   "version": "3.9.13"
  }
 },
 "nbformat": 4,
 "nbformat_minor": 2
}
