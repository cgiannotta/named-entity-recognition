{
 "cells": [
  {
   "cell_type": "code",
   "execution_count": 1,
   "metadata": {},
   "outputs": [],
   "source": [
    "import pandas as pd\n",
    "import numpy as np\n",
    "import matplotlib.pyplot as plt"
   ]
  },
  {
   "cell_type": "code",
   "execution_count": null,
   "metadata": {},
   "outputs": [
    {
     "name": "stdout",
     "output_type": "stream",
     "text": [
      "Collecting spacy\n",
      "  Using cached spacy-3.8.5-cp39-cp39-win_amd64.whl (12.3 MB)\n",
      "Collecting murmurhash<1.1.0,>=0.28.0\n",
      "  Using cached murmurhash-1.0.12-cp39-cp39-win_amd64.whl (25 kB)\n",
      "Collecting thinc<8.4.0,>=8.3.4\n",
      "  Using cached thinc-8.3.6-cp39-cp39-win_amd64.whl (1.8 MB)\n",
      "Collecting preshed<3.1.0,>=3.0.2\n",
      "  Using cached preshed-3.0.9-cp39-cp39-win_amd64.whl (122 kB)\n",
      "Collecting wasabi<1.2.0,>=0.9.1\n",
      "  Using cached wasabi-1.1.3-py3-none-any.whl (27 kB)\n",
      "Requirement already satisfied: requests<3.0.0,>=2.13.0 in c:\\users\\colle\\anaconda3\\lib\\site-packages (from spacy) (2.28.1)\n",
      "Collecting typer<1.0.0,>=0.3.0\n",
      "  Using cached typer-0.15.2-py3-none-any.whl (45 kB)\n",
      "Collecting srsly<3.0.0,>=2.4.3\n",
      "  Using cached srsly-2.5.1-cp39-cp39-win_amd64.whl (633 kB)\n",
      "Collecting cymem<2.1.0,>=2.0.2\n",
      "  Using cached cymem-2.0.11-cp39-cp39-win_amd64.whl (39 kB)\n",
      "Collecting spacy-legacy<3.1.0,>=3.0.11\n",
      "  Using cached spacy_legacy-3.0.12-py2.py3-none-any.whl (29 kB)\n",
      "Collecting catalogue<2.1.0,>=2.0.6\n",
      "  Using cached catalogue-2.0.10-py3-none-any.whl (17 kB)\n",
      "Collecting weasel<0.5.0,>=0.1.0\n",
      "  Using cached weasel-0.4.1-py3-none-any.whl (50 kB)\n",
      "Requirement already satisfied: tqdm<5.0.0,>=4.38.0 in c:\\users\\colle\\anaconda3\\lib\\site-packages (from spacy) (4.64.1)\n",
      "Requirement already satisfied: packaging>=20.0 in c:\\users\\colle\\anaconda3\\lib\\site-packages (from spacy) (23.2)\n",
      "Requirement already satisfied: numpy>=1.19.0 in c:\\users\\colle\\anaconda3\\lib\\site-packages (from spacy) (1.21.5)\n",
      "Collecting spacy-loggers<2.0.0,>=1.0.0\n",
      "  Using cached spacy_loggers-1.0.5-py3-none-any.whl (22 kB)\n",
      "Requirement already satisfied: pydantic!=1.8,!=1.8.1,<3.0.0,>=1.7.4 in c:\\users\\colle\\anaconda3\\lib\\site-packages (from spacy) (2.7.1)\n",
      "Requirement already satisfied: jinja2 in c:\\users\\colle\\anaconda3\\lib\\site-packages (from spacy) (2.11.3)\n",
      "Requirement already satisfied: setuptools in c:\\users\\colle\\anaconda3\\lib\\site-packages (from spacy) (63.4.1)\n",
      "Collecting langcodes<4.0.0,>=3.2.0\n",
      "  Using cached langcodes-3.5.0-py3-none-any.whl (182 kB)\n",
      "Collecting language-data>=1.2\n",
      "  Using cached language_data-1.3.0-py3-none-any.whl (5.4 MB)\n",
      "Requirement already satisfied: typing-extensions>=4.6.1 in c:\\users\\colle\\anaconda3\\lib\\site-packages (from pydantic!=1.8,!=1.8.1,<3.0.0,>=1.7.4->spacy) (4.11.0)\n",
      "Requirement already satisfied: annotated-types>=0.4.0 in c:\\users\\colle\\anaconda3\\lib\\site-packages (from pydantic!=1.8,!=1.8.1,<3.0.0,>=1.7.4->spacy) (0.6.0)\n",
      "Requirement already satisfied: pydantic-core==2.18.2 in c:\\users\\colle\\anaconda3\\lib\\site-packages (from pydantic!=1.8,!=1.8.1,<3.0.0,>=1.7.4->spacy) (2.18.2)\n",
      "Requirement already satisfied: charset-normalizer<3,>=2 in c:\\users\\colle\\anaconda3\\lib\\site-packages (from requests<3.0.0,>=2.13.0->spacy) (2.0.4)\n",
      "Requirement already satisfied: certifi>=2017.4.17 in c:\\users\\colle\\anaconda3\\lib\\site-packages (from requests<3.0.0,>=2.13.0->spacy) (2022.9.14)\n",
      "Requirement already satisfied: idna<4,>=2.5 in c:\\users\\colle\\anaconda3\\lib\\site-packages (from requests<3.0.0,>=2.13.0->spacy) (3.3)\n",
      "Requirement already satisfied: urllib3<1.27,>=1.21.1 in c:\\users\\colle\\anaconda3\\lib\\site-packages (from requests<3.0.0,>=2.13.0->spacy) (1.26.11)\n",
      "Collecting confection<1.0.0,>=0.0.1\n",
      "  Using cached confection-0.1.5-py3-none-any.whl (35 kB)\n",
      "Collecting blis<1.4.0,>=1.3.0\n",
      "  Using cached blis-1.3.0.tar.gz (2.5 MB)\n",
      "  Installing build dependencies: started\n",
      "  Installing build dependencies: finished with status 'done'\n",
      "  Getting requirements to build wheel: started\n",
      "  Getting requirements to build wheel: finished with status 'done'\n",
      "  Preparing metadata (pyproject.toml): started\n",
      "  Preparing metadata (pyproject.toml): finished with status 'done'\n",
      "Collecting numpy>=1.19.0\n",
      "  Using cached numpy-2.0.2-cp39-cp39-win_amd64.whl (15.9 MB)\n",
      "Requirement already satisfied: colorama in c:\\users\\colle\\anaconda3\\lib\\site-packages (from tqdm<5.0.0,>=4.38.0->spacy) (0.4.5)\n",
      "Requirement already satisfied: click>=8.0.0 in c:\\users\\colle\\anaconda3\\lib\\site-packages (from typer<1.0.0,>=0.3.0->spacy) (8.0.4)\n",
      "Collecting shellingham>=1.3.0\n",
      "  Using cached shellingham-1.5.4-py2.py3-none-any.whl (9.8 kB)\n",
      "Collecting rich>=10.11.0\n",
      "  Using cached rich-14.0.0-py3-none-any.whl (243 kB)\n",
      "Collecting colorama\n",
      "  Using cached colorama-0.4.6-py2.py3-none-any.whl (25 kB)\n",
      "Collecting cloudpathlib<1.0.0,>=0.7.0\n",
      "  Using cached cloudpathlib-0.21.0-py3-none-any.whl (52 kB)\n",
      "Requirement already satisfied: smart-open<8.0.0,>=5.2.1 in c:\\users\\colle\\anaconda3\\lib\\site-packages (from weasel<0.5.0,>=0.1.0->spacy) (5.2.1)\n",
      "Requirement already satisfied: MarkupSafe>=0.23 in c:\\users\\colle\\anaconda3\\lib\\site-packages (from jinja2->spacy) (2.0.1)\n",
      "Collecting marisa-trie>=1.1.0\n",
      "  Using cached marisa_trie-1.2.1-cp39-cp39-win_amd64.whl (152 kB)\n",
      "Collecting markdown-it-py>=2.2.0\n",
      "  Using cached markdown_it_py-3.0.0-py3-none-any.whl (87 kB)\n",
      "Collecting pygments<3.0.0,>=2.13.0\n",
      "  Using cached pygments-2.19.1-py3-none-any.whl (1.2 MB)\n",
      "Collecting mdurl~=0.1\n",
      "  Using cached mdurl-0.1.2-py3-none-any.whl (10.0 kB)\n",
      "Building wheels for collected packages: blis\n",
      "  Building wheel for blis (pyproject.toml): started\n",
      "  Building wheel for blis (pyproject.toml): finished with status 'error'\n",
      "Failed to build blis\n"
     ]
    },
    {
     "name": "stderr",
     "output_type": "stream",
     "text": [
      "  error: subprocess-exited-with-error\n",
      "  \n",
      "  × Building wheel for blis (pyproject.toml) did not run successfully.\n",
      "  │ exit code: 1\n",
      "  ╰─> [36 lines of output]\n",
      "      BLIS_COMPILER? None\n",
      "      C:\\Users\\colle\\AppData\\Local\\Temp\\pip-build-env-ylejl7dn\\overlay\\Lib\\site-packages\\setuptools\\dist.py:759: SetuptoolsDeprecationWarning: License classifiers are deprecated.\n",
      "      !!\n",
      "      \n",
      "              ********************************************************************************\n",
      "              Please consider removing the following classifiers in favor of a SPDX license expression:\n",
      "      \n",
      "              License :: OSI Approved :: BSD License\n",
      "      \n",
      "              See https://packaging.python.org/en/latest/guides/writing-pyproject-toml/#license for details.\n",
      "              ********************************************************************************\n",
      "      \n",
      "      !!\n",
      "        self._finalize_license_expression()\n",
      "      running bdist_wheel\n",
      "      running build\n",
      "      running build_py\n",
      "      creating build\\lib.win-amd64-cpython-39\\blis\n",
      "      copying blis\\about.py -> build\\lib.win-amd64-cpython-39\\blis\n",
      "      copying blis\\benchmark.py -> build\\lib.win-amd64-cpython-39\\blis\n",
      "      copying blis\\__init__.py -> build\\lib.win-amd64-cpython-39\\blis\n",
      "      creating build\\lib.win-amd64-cpython-39\\blis\\tests\n",
      "      copying blis\\tests\\common.py -> build\\lib.win-amd64-cpython-39\\blis\\tests\n",
      "      copying blis\\tests\\test_dotv.py -> build\\lib.win-amd64-cpython-39\\blis\\tests\n",
      "      copying blis\\tests\\test_gemm.py -> build\\lib.win-amd64-cpython-39\\blis\\tests\n",
      "      copying blis\\tests\\__init__.py -> build\\lib.win-amd64-cpython-39\\blis\\tests\n",
      "      copying blis\\cy.pyx -> build\\lib.win-amd64-cpython-39\\blis\n",
      "      copying blis\\py.pyx -> build\\lib.win-amd64-cpython-39\\blis\n",
      "      copying blis\\cy.pxd -> build\\lib.win-amd64-cpython-39\\blis\n",
      "      copying blis\\__init__.pxd -> build\\lib.win-amd64-cpython-39\\blis\n",
      "      running build_ext\n",
      "      Build options win32 msvc\n",
      "      BUILD ARCH: x86_64\n",
      "      {'ACLOCAL_PATH': 'C:\\\\Program Files\\\\Git\\\\mingw64\\\\share\\\\aclocal;C:\\\\Program Files\\\\Git\\\\usr\\\\share\\\\aclocal', 'ACTIONS_RUNNER_ACTION_ARCHIVE_CACHE': 'C:\\\\actionarchivecache\\\\', 'AGENT_BUILDDIRECTORY': 'D:\\\\a\\\\1', 'AGENT_CLOUDID': 'cc0b709a-2cb2-4727-8ec5-adb402963aba', 'AGENT_DISABLELOGPLUGIN_TESTFILEPUBLISHERPLUGIN': 'true', 'AGENT_DISABLELOGPLUGIN_TESTRESULTLOGPLUGIN': 'false', 'AGENT_ENABLE_PIPELINEARTIFACT_LARGE_CHUNK_SIZE': 'true', 'AGENT_HOMEDIRECTORY': 'C:\\\\agents\\\\3.248.0', 'AGENT_ID': '93', 'AGENT_ISSELFHOSTED': '0', 'AGENT_JOBNAME': 'JSONL Python39Windows', 'AGENT_JOBSTATUS': 'Succeeded', 'AGENT_LOGTOBLOBSTORAGESERVICE': 'true', 'AGENT_MACHINENAME': 'fv-az618-395', 'AGENT_NAME': 'Azure Pipelines 2', 'AGENT_OS': 'Windows_NT', 'AGENT_OSARCHITECTURE': 'X64', 'AGENT_READONLYVARIABLES': 'true', 'AGENT_RETAINDEFAULTENCODING': 'false', 'AGENT_ROOTDIRECTORY': 'D:\\\\a', 'AGENT_SERVEROMDIRECTORY': 'C:\\\\agents\\\\3.248.0\\\\externals\\\\vstsom', 'AGENT_TASKRESTRICTIONSENFORCEMENTMODE': 'Enabled', 'AGENT_TEMPDIRECTORY': 'D:\\\\a\\\\_temp', 'AGENT_TOOLSDIRECTORY': 'C:\\\\hostedtoolcache\\\\windows', 'AGENT_USEWORKSPACEID': 'true', 'AGENT_USE_FETCH_FILTER_IN_CHECKOUT_TASK': 'true', 'AGENT_VERSION': '4.248.0', 'AGENT_WORKFOLDER': 'D:\\\\a', 'ALLUSERSPROFILE': 'C:\\\\ProgramData', 'ANDROID_HOME': 'C:\\\\Android\\\\android-sdk', 'ANDROID_NDK': 'C:\\\\Android\\\\android-sdk\\\\ndk\\\\27.2.12479018', 'ANDROID_NDK_HOME': 'C:\\\\Android\\\\android-sdk\\\\ndk\\\\27.2.12479018', 'ANDROID_NDK_LATEST_HOME': 'C:\\\\Android\\\\android-sdk\\\\ndk\\\\27.2.12479018', 'ANDROID_NDK_ROOT': 'C:\\\\Android\\\\android-sdk\\\\ndk\\\\27.2.12479018', 'ANDROID_SDK_ROOT': 'C:\\\\Android\\\\android-sdk', 'ANT_HOME': 'C:\\\\ProgramData\\\\chocolatey\\\\lib\\\\ant\\\\tools\\\\apache-ant-1.10.14', 'APPDATA': 'C:\\\\Users\\\\VssAdministrator\\\\AppData\\\\Roaming', 'AZP_75787_ENABLE_COLLECT': 'true', 'AZP_75787_ENABLE_NEW_LOGIC': 'false', 'AZP_75787_ENABLE_NEW_LOGIC_LOG': 'false', 'AZP_75787_ENABLE_NEW_PH_LOGIC': 'true', 'AZP_AGENT_CHECK_FOR_TASK_DEPRECATION': 'true', 'AZP_AGENT_IGNORE_VSTSTASKLIB': 'true', 'AZP_AGENT_LOG_TASKNAME_IN_USERAGENT': 'true', 'AZP_AGENT_MOUNT_WORKSPACE': 'true', 'AZP_ENABLE_RESOURCE_MONITOR_DEBUG_OUTPUT': 'true', 'AZP_ENABLE_RESOURCE_UTILIZATION_WARNINGS': 'true', 'AZP_PS_ENABLE_INVOKE_PROCESS': 'true', 'AZURE_CONFIG_DIR': 'C:\\\\azureCli', 'AZURE_DEVOPS_CACHE_DIR': 'C:\\\\azureDevOpsCli\\\\cache', 'AZURE_EXTENSION_DIR': 'C:\\\\Program Files\\\\Common Files\\\\AzureCliExtensionDirectory', 'AZURE_HTTP_USER_AGENT': 'VSTS_116cc368-5c0c-4eb4-bb44-7f3fa5bdce14_build_6_0', 'AZ_DEVOPS_GLOBAL_CONFIG_DIR': 'C:\\\\azureDevOpsCli', 'BUILD_ARTIFACTSTAGINGDIRECTORY': 'D:\\\\a\\\\1\\\\a', 'BUILD_BINARIESDIRECTORY': 'D:\\\\a\\\\1\\\\b', 'BUILD_BUILDID': '27184', 'BUILD_BUILDNUMBER': '20250110.10', 'BUILD_BUILDURI': 'vstfs:///Build/Build/27184', 'BUILD_CONTAINERID': '29126447', 'BUILD_DEFINITIONFOLDERPATH': '\\\\', 'BUILD_DEFINITIONNAME': 'explosion.cython-blis', 'BUILD_DEFINITIONVERSION': '1', 'BUILD_QUEUEDBY': 'Microsoft.VisualStudio.Services.TFS', 'BUILD_QUEUEDBYID': '00000002-0000-8888-8000-000000000000', 'BUILD_REASON': 'BatchedCI', 'BUILD_REPOSITORY_CLEAN': 'False', 'BUILD_REPOSITORY_GIT_SUBMODULECHECKOUT': 'False', 'BUILD_REPOSITORY_ID': 'explosion/cython-blis', 'BUILD_REPOSITORY_LOCALPATH': 'D:\\\\a\\\\1\\\\s', 'BUILD_REPOSITORY_NAME': 'explosion/cython-blis', 'BUILD_REPOSITORY_PROVIDER': 'GitHub', 'BUILD_REPOSITORY_URI': 'https://github.com/explosion/cython-blis', 'BUILD_REQUESTEDFOR': 'Microsoft.VisualStudio.Services.TFS', 'BUILD_REQUESTEDFOREMAIL': '', 'BUILD_REQUESTEDFORID': '00000002-0000-8888-8000-000000000000', 'BUILD_SOURCEBRANCH': 'refs/heads/v0.8.x', 'BUILD_SOURCEBRANCHNAME': 'v0.8.x', 'BUILD_SOURCESDIRECTORY': 'D:\\\\a\\\\1\\\\s', 'BUILD_SOURCEVERSION': '2cb93566856d208bc951d5847171583d6379406a', 'BUILD_SOURCEVERSIONAUTHOR': 'honnibal', 'BUILD_SOURCEVERSIONMESSAGE': 'Edit ap', 'BUILD_STAGINGDIRECTORY': 'D:\\\\a\\\\1\\\\a', 'CABAL_DIR': 'C:\\\\cabal', 'COBERTURA_HOME': 'C:\\\\cobertura-2.1.1', 'COMMONPROGRAMFILES': 'C:\\\\Program Files\\\\Common Files', 'COMMON_TESTRESULTSDIRECTORY': 'D:\\\\a\\\\1\\\\TestResults', 'COMPUTERNAME': 'fv-az618-395', 'COMSPEC': 'C:\\\\Windows\\\\system32\\\\cmd.exe', 'CONDA': 'C:\\\\Miniconda', 'CONFIG_SITE': 'C:/Program Files/Git/etc/config.site', 'COPYFILESOVERSSHV0_USE_QUEUE': 'true', 'CHOCOLATEYINSTALL': 'C:\\\\ProgramData\\\\chocolatey', 'CHROMEWEBDRIVER': 'C:\\\\SeleniumWebDrivers\\\\ChromeDriver', 'COMMONPROGRAMFILES(X86)': 'C:\\\\Program Files (x86)\\\\Common Files', 'COMMONPROGRAMW6432': 'C:\\\\Program Files\\\\Common Files', 'DISPLAY': 'needs-to-be-defined', 'DISTRIBUTEDTASK_AGENT_ADDFORCECREDENTIALSTOGITCHECKOUT': 'True', 'DISTRIBUTEDTASK_AGENT_AGENTENABLEPIPELINEARTIFACTLARGECHUNKSIZE': 'True', 'DISTRIBUTEDTASK_AGENT_CHECKIFTASKNODERUNNERISDEPRECATED246': 'True', 'DISTRIBUTEDTASK_AGENT_CONTINUEAFTERCANCELPROCESSTREEKILLATTEMPT': 'True', 'DISTRIBUTEDTASK_AGENT_DOCKERACTIONRETRIES': 'True', 'DISTRIBUTEDTASK_AGENT_ENABLEADDITIONALMASKINGREGEXES': 'True', 'DISTRIBUTEDTASK_AGENT_ENABLEISSUESOURCEVALIDATION': 'True', 'DISTRIBUTEDTASK_AGENT_ENABLERESOURCEMONITORDEBUGOUTPUT': 'True', 'DISTRIBUTEDTASK_AGENT_ENABLERESOURCEUTILIZATIONWARNINGS': 'True', 'DISTRIBUTEDTASK_AGENT_FAILDEPRECATEDBUILDTASK': 'True', 'DISTRIBUTEDTASK_AGENT_FAILDEPRECATEDTASK': 'True', 'DISTRIBUTEDTASK_AGENT_FAILJOBWHENAGENTDIES': 'True', 'DISTRIBUTEDTASK_AGENT_FIXPOSSIBLEGITOUTOFMEMORYPROBLEM': 'False', 'DISTRIBUTEDTASK_AGENT_FORCEUPDATETOLATEST2VERSION': 'False', 'DISTRIBUTEDTASK_AGENT_IGNOREVSTSTASKLIB': 'True', 'DISTRIBUTEDTASK_AGENT_LOGTASKNAMEINUSERAGENT': 'True', 'DISTRIBUTEDTASK_AGENT_LOGTOBLOBSTORAGESERVICE': 'True', 'DISTRIBUTEDTASK_AGENT_MOUNTWORKSPACE': 'True', 'DISTRIBUTEDTASK_AGENT_READONLYVARIABLES': 'True', 'DISTRIBUTEDTASK_AGENT_ROSETTA2WARNING': 'True', 'DISTRIBUTEDTASK_AGENT_USEDOCKERCOMPOSEV2COMPATIBLEMODE': 'False', 'DISTRIBUTEDTASK_AGENT_USEFETCHFILTERINCHECKOUTTASK': 'True', 'DISTRIBUTEDTASK_AGENT_USEGITLONGPATHS': 'True', 'DISTRIBUTEDTASK_AGENT_USELATESTGITVERSION': 'True', 'DISTRIBUTEDTASK_AGENT_USEMSALLIBRARY': 'True', 'DISTRIBUTEDTASK_AGENT_USENEWNODEHANDLERTELEMETRY': 'True', 'DISTRIBUTEDTASK_AGENT_USENODE20TOSTARTCONTAINER': 'True', 'DISTRIBUTEDTASK_AGENT_USEWORKSPACEID': 'True', 'DISTRIBUTEDTASK_TASKS_COPYFILESOVERSSHV0USEQUEUE': 'True', 'DISTRIBUTEDTASK_TASKS_NODE_SKIPDEBUGLOGSWHENDEBUGMODEOFF': 'True', 'DISTRIBUTEDTASK_TASKS_RETIREAZURERMPOWERSHELLMODULE': 'True', 'DOTNET_MULTILEVEL_LOOKUP': '0', 'DOTNET_NOLOGO': '1', 'DOTNET_SKIP_FIRST_TIME_EXPERIENCE': '1', 'DRIVERDATA': 'C:\\\\Windows\\\\System32\\\\Drivers\\\\DriverData', 'ENABLE_ISSUE_SOURCE_VALIDATION': 'true', 'EXEPATH': 'C:\\\\Program Files\\\\Git\\\\bin', 'EDGEWEBDRIVER': 'C:\\\\SeleniumWebDrivers\\\\EdgeDriver', 'FAIL_DEPRECATED_BUILD_TASK': 'true', 'FAIL_DEPRECATED_TASK': 'true', 'FAIL_JOB_WHEN_AGENT_DIES': 'true', 'GCM_INTERACTIVE': 'Never', 'GHCUP_INSTALL_BASE_PREFIX': 'C:\\\\', 'GHCUP_MSYS2': 'C:\\\\msys64', 'GIT_TERMINAL_PROMPT': '0', 'GOROOT_1_20_X64': 'C:\\\\hostedtoolcache\\\\windows\\\\go\\\\1.20.14\\\\x64', 'GOROOT_1_21_X64': 'C:\\\\hostedtoolcache\\\\windows\\\\go\\\\1.21.13\\\\x64', 'GOROOT_1_22_X64': 'C:\\\\hostedtoolcache\\\\windows\\\\go\\\\1.22.10\\\\x64', 'GOROOT_1_23_X64': 'C:\\\\hostedtoolcache\\\\windows\\\\go\\\\1.23.4\\\\x64', 'GRADLE_HOME': 'C:\\\\ProgramData\\\\chocolatey\\\\lib\\\\gradle\\\\tools\\\\gradle-8.12', 'GECKOWEBDRIVER': 'C:\\\\SeleniumWebDrivers\\\\GeckoDriver', 'HOME': 'C:\\\\Users\\\\VssAdministrator', 'HOMEDRIVE': 'C:', 'HOMEPATH': '\\\\Users\\\\VssAdministrator', 'HOSTNAME': 'fv-az618-395', 'IEWEBDRIVER': 'C:\\\\SeleniumWebDrivers\\\\IEDriver', 'IMAGENAME': 'windows-latest', 'INFOPATH': 'C:\\\\Program Files\\\\Git\\\\mingw64\\\\local\\\\info;C:\\\\Program Files\\\\Git\\\\mingw64\\\\share\\\\info;C:\\\\Program Files\\\\Git\\\\usr\\\\local\\\\info;C:\\\\Program Files\\\\Git\\\\usr\\\\share\\\\info;C:\\\\Program Files\\\\Git\\\\usr\\\\info;C:\\\\Program Files\\\\Git\\\\share\\\\info', 'IMAGEOS': 'win22', 'IMAGEVERSION': '20250105.1.0', 'JAVA_HOME': 'C:\\\\hostedtoolcache\\\\windows\\\\Java_Temurin-Hotspot_jdk\\\\8.0.432-6\\\\x64', 'JAVA_HOME_11_X64': 'C:\\\\hostedtoolcache\\\\windows\\\\Java_Temurin-Hotspot_jdk\\\\11.0.25-9\\\\x64', 'JAVA_HOME_17_X64': 'C:\\\\hostedtoolcache\\\\windows\\\\Java_Temurin-Hotspot_jdk\\\\17.0.13-11\\\\x64', 'JAVA_HOME_21_X64': 'C:\\\\hostedtoolcache\\\\windows\\\\Java_Temurin-Hotspot_jdk\\\\21.0.5-11.0\\\\x64', 'JAVA_HOME_8_X64': 'C:\\\\hostedtoolcache\\\\windows\\\\Java_Temurin-Hotspot_jdk\\\\8.0.432-6\\\\x64', 'LANG': 'en_US.UTF-8', 'LOCALAPPDATA': 'C:\\\\Users\\\\VssAdministrator\\\\AppData\\\\Local', 'LOGONSERVER': '\\\\\\\\fv-az618-395', 'M2': 'C:\\\\ProgramData\\\\chocolatey\\\\lib\\\\maven\\\\apache-maven-3.8.7\\\\bin', 'M2_REPO': 'C:\\\\ProgramData\\\\m2', 'MANPATH': 'C:\\\\Program Files\\\\Git\\\\mingw64\\\\local\\\\man;C:\\\\Program Files\\\\Git\\\\mingw64\\\\share\\\\man;C:\\\\Program Files\\\\Git\\\\usr\\\\local\\\\man;C:\\\\Program Files\\\\Git\\\\usr\\\\share\\\\man;C:\\\\Program Files\\\\Git\\\\usr\\\\man;C:\\\\Program Files\\\\Git\\\\share\\\\man', 'MAVEN_OPTS': '-Xms256m', 'MINGW_CHOST': 'x86_64-w64-mingw32', 'MINGW_PACKAGE_PREFIX': 'mingw-w64-x86_64', 'MINGW_PREFIX': 'C:/Program Files/Git/mingw64', 'MSDEPLOY_HTTP_USER_AGENT': 'VSTS_116cc368-5c0c-4eb4-bb44-7f3fa5bdce14_build_6_0', 'MSYSTEM': 'MINGW64', 'MSYSTEM_CARCH': 'x86_64', 'MSYSTEM_CHOST': 'x86_64-w64-mingw32', 'MSYSTEM_PREFIX': 'C:/Program Files/Git/mingw64', 'NUMBER_OF_PROCESSORS': '2', 'OLDPWD': 'D:/a/1/s', 'ORIGINAL_PATH': 'C:\\\\Program Files\\\\Git\\\\mingw64\\\\bin;C:\\\\Program Files\\\\Git\\\\usr\\\\bin;C:\\\\Users\\\\VssAdministrator\\\\bin;C:\\\\Users\\\\VssAdministrator\\\\AppData\\\\Roaming\\\\Python\\\\Python39\\\\Scripts;C:\\\\hostedtoolcache\\\\windows\\\\Python\\\\3.9.13\\\\x64\\\\Scripts;C:\\\\hostedtoolcache\\\\windows\\\\Python\\\\3.9.13\\\\x64;C:\\\\agents\\\\3.248.0\\\\externals\\\\git\\\\cmd;C:\\\\agents\\\\3.248.0\\\\externals\\\\git\\\\mingw64\\\\bin;C:\\\\Program Files\\\\MongoDB\\\\Server\\\\5.0\\\\bin;C:\\\\aliyun-cli;C:\\\\vcpkg;C:\\\\Program Files (x86)\\\\NSIS;C:\\\\tools\\\\zstd;C:\\\\Program Files\\\\Mercurial;C:\\\\hostedtoolcache\\\\windows\\\\stack\\\\3.3.1\\\\x64;C:\\\\cabal\\\\bin;C:\\\\ghcup\\\\bin;C:\\\\mingw64\\\\bin;C:\\\\Program Files\\\\dotnet;C:\\\\Program Files\\\\MySQL\\\\MySQL Server 8.0\\\\bin;C:\\\\Program Files\\\\R\\\\R-4.4.2\\\\bin\\\\x64;C:\\\\SeleniumWebDrivers\\\\GeckoDriver;C:\\\\SeleniumWebDrivers\\\\EdgeDriver;C:\\\\SeleniumWebDrivers\\\\ChromeDriver;C:\\\\Program Files (x86)\\\\sbt\\\\bin;C:\\\\Program Files (x86)\\\\GitHub CLI;C:\\\\Program Files\\\\Git\\\\usr\\\\bin;C:\\\\Program Files (x86)\\\\pipx_bin;C:\\\\npm\\\\prefix;C:\\\\hostedtoolcache\\\\windows\\\\go\\\\1.21.13\\\\x64\\\\bin;C:\\\\hostedtoolcache\\\\windows\\\\Python\\\\3.9.13\\\\x64\\\\Scripts;C:\\\\hostedtoolcache\\\\windows\\\\Python\\\\3.9.13\\\\x64;C:\\\\hostedtoolcache\\\\windows\\\\Ruby\\\\3.0.7\\\\x64\\\\bin;C:\\\\Program Files\\\\OpenSSL\\\\bin;C:\\\\tools\\\\kotlinc\\\\bin;C:\\\\hostedtoolcache\\\\windows\\\\Java_Temurin-Hotspot_jdk\\\\8.0.432-6\\\\x64\\\\bin;C:\\\\Program Files\\\\ImageMagick-7.1.1-Q16-HDRI;C:\\\\Program Files\\\\Microsoft SDKs\\\\Azure\\\\CLI2\\\\wbin;C:\\\\ProgramData\\\\kind;C:\\\\ProgramData\\\\Chocolatey\\\\bin;C:\\\\Windows\\\\system32;C:\\\\Windows;C:\\\\Windows\\\\System32\\\\Wbem;C:\\\\Windows\\\\System32\\\\WindowsPowerShell\\\\v1.0;C:\\\\Windows\\\\System32\\\\OpenSSH;C:\\\\Program Files\\\\dotnet;C:\\\\Program Files\\\\PowerShell\\\\7;C:\\\\Program Files\\\\Microsoft\\\\Web Platform Installer;C:\\\\Program Files\\\\TortoiseSVN\\\\bin;C:\\\\Program Files\\\\Microsoft SQL Server\\\\Client SDK\\\\ODBC\\\\170\\\\Tools\\\\Binn;C:\\\\Program Files\\\\Microsoft SQL Server\\\\150\\\\Tools\\\\Binn;C:\\\\Program Files (x86)\\\\Windows Kits\\\\10\\\\Windows Performance Toolkit;C:\\\\Program Files (x86)\\\\WiX Toolset v3.14\\\\bin;C:\\\\Program Files\\\\Microsoft SQL Server\\\\130\\\\DTS\\\\Binn;C:\\\\Program Files\\\\Microsoft SQL Server\\\\140\\\\DTS\\\\Binn;C:\\\\Program Files\\\\Microsoft SQL Server\\\\150\\\\DTS\\\\Binn;C:\\\\Program Files\\\\Microsoft SQL Server\\\\160\\\\DTS\\\\Binn;C:\\\\Strawberry\\\\c\\\\bin;C:\\\\Strawberry\\\\perl\\\\site\\\\bin;C:\\\\Strawberry\\\\perl\\\\bin;C:\\\\ProgramData\\\\chocolatey\\\\lib\\\\pulumi\\\\tools\\\\Pulumi\\\\bin;C:\\\\Program Files\\\\CMake\\\\bin;C:\\\\ProgramData\\\\chocolatey\\\\lib\\\\maven\\\\apache-maven-3.8.7\\\\bin;C:\\\\Program Files\\\\Microsoft Service Fabric\\\\bin\\\\Fabric\\\\Fabric.Code;C:\\\\Program Files\\\\Microsoft SDKs\\\\Service Fabric\\\\Tools\\\\ServiceFabricLocalClusterManager;C:\\\\Program Files\\\\nodejs;C:\\\\Program Files\\\\Git\\\\cmd;C:\\\\Program Files\\\\Git\\\\mingw64\\\\bin;C:\\\\Program Files\\\\Git\\\\usr\\\\bin;C:\\\\Program Files\\\\GitHub CLI;C:\\\\tools\\\\php;C:\\\\Program Files (x86)\\\\sbt\\\\bin;C:\\\\Program Files\\\\Amazon\\\\AWSCLIV2;C:\\\\Program Files\\\\Amazon\\\\SessionManagerPlugin\\\\bin;C:\\\\Program Files\\\\Amazon\\\\AWSSAMCLI\\\\bin;C:\\\\Program Files\\\\Microsoft SQL Server\\\\130\\\\Tools\\\\Binn;C:\\\\Program Files\\\\LLVM\\\\bin;C:\\\\Users\\\\VssAdministrator\\\\.dotnet\\\\tools;C:\\\\Users\\\\VssAdministrator\\\\.cargo\\\\bin;C:\\\\Users\\\\VssAdministrator\\\\AppData\\\\Local\\\\Microsoft\\\\WindowsApps', 'ORIGINAL_TEMP': 'C:/Users/VSSADM~1/AppData/Local/Temp', 'ORIGINAL_TMP': 'C:/Users/VSSADM~1/AppData/Local/Temp', 'OS': 'windows', 'PATH': 'C:\\\\Users\\\\VssAdministrator\\\\bin;C:\\\\Program Files\\\\Git\\\\mingw64\\\\bin;C:\\\\Program Files\\\\Git\\\\usr\\\\local\\\\bin;C:\\\\Program Files\\\\Git\\\\usr\\\\bin;C:\\\\Program Files\\\\Git\\\\usr\\\\bin;C:\\\\Program Files\\\\Git\\\\mingw64\\\\bin;C:\\\\Program Files\\\\Git\\\\usr\\\\bin;C:\\\\Users\\\\VssAdministrator\\\\bin;C:\\\\Users\\\\VssAdministrator\\\\AppData\\\\Roaming\\\\Python\\\\Python39\\\\Scripts;C:\\\\hostedtoolcache\\\\windows\\\\Python\\\\3.9.13\\\\x64\\\\Scripts;C:\\\\hostedtoolcache\\\\windows\\\\Python\\\\3.9.13\\\\x64;C:\\\\agents\\\\3.248.0\\\\externals\\\\git\\\\cmd;C:\\\\agents\\\\3.248.0\\\\externals\\\\git\\\\mingw64\\\\bin;C:\\\\Program Files\\\\MongoDB\\\\Server\\\\5.0\\\\bin;C:\\\\aliyun-cli;C:\\\\vcpkg;C:\\\\Program Files (x86)\\\\NSIS;C:\\\\tools\\\\zstd;C:\\\\Program Files\\\\Mercurial;C:\\\\hostedtoolcache\\\\windows\\\\stack\\\\3.3.1\\\\x64;C:\\\\cabal\\\\bin;C:\\\\ghcup\\\\bin;C:\\\\mingw64\\\\bin;C:\\\\Program Files\\\\dotnet;C:\\\\Program Files\\\\MySQL\\\\MySQL Server 8.0\\\\bin;C:\\\\Program Files\\\\R\\\\R-4.4.2\\\\bin\\\\x64;C:\\\\SeleniumWebDrivers\\\\GeckoDriver;C:\\\\SeleniumWebDrivers\\\\EdgeDriver;C:\\\\SeleniumWebDrivers\\\\ChromeDriver;C:\\\\Program Files (x86)\\\\sbt\\\\bin;C:\\\\Program Files (x86)\\\\GitHub CLI;C:\\\\Program Files\\\\Git\\\\usr\\\\bin;C:\\\\Program Files (x86)\\\\pipx_bin;C:\\\\npm\\\\prefix;C:\\\\hostedtoolcache\\\\windows\\\\go\\\\1.21.13\\\\x64\\\\bin;C:\\\\hostedtoolcache\\\\windows\\\\Python\\\\3.9.13\\\\x64\\\\Scripts;C:\\\\hostedtoolcache\\\\windows\\\\Python\\\\3.9.13\\\\x64;C:\\\\hostedtoolcache\\\\windows\\\\Ruby\\\\3.0.7\\\\x64\\\\bin;C:\\\\Program Files\\\\OpenSSL\\\\bin;C:\\\\tools\\\\kotlinc\\\\bin;C:\\\\hostedtoolcache\\\\windows\\\\Java_Temurin-Hotspot_jdk\\\\8.0.432-6\\\\x64\\\\bin;C:\\\\Program Files\\\\ImageMagick-7.1.1-Q16-HDRI;C:\\\\Program Files\\\\Microsoft SDKs\\\\Azure\\\\CLI2\\\\wbin;C:\\\\ProgramData\\\\kind;C:\\\\ProgramData\\\\Chocolatey\\\\bin;C:\\\\Windows\\\\system32;C:\\\\Windows;C:\\\\Windows\\\\System32\\\\Wbem;C:\\\\Windows\\\\System32\\\\WindowsPowerShell\\\\v1.0;C:\\\\Windows\\\\System32\\\\OpenSSH;C:\\\\Program Files\\\\dotnet;C:\\\\Program Files\\\\PowerShell\\\\7;C:\\\\Program Files\\\\Microsoft\\\\Web Platform Installer;C:\\\\Program Files\\\\TortoiseSVN\\\\bin;C:\\\\Program Files\\\\Microsoft SQL Server\\\\Client SDK\\\\ODBC\\\\170\\\\Tools\\\\Binn;C:\\\\Program Files\\\\Microsoft SQL Server\\\\150\\\\Tools\\\\Binn;C:\\\\Program Files (x86)\\\\Windows Kits\\\\10\\\\Windows Performance Toolkit;C:\\\\Program Files (x86)\\\\WiX Toolset v3.14\\\\bin;C:\\\\Program Files\\\\Microsoft SQL Server\\\\130\\\\DTS\\\\Binn;C:\\\\Program Files\\\\Microsoft SQL Server\\\\140\\\\DTS\\\\Binn;C:\\\\Program Files\\\\Microsoft SQL Server\\\\150\\\\DTS\\\\Binn;C:\\\\Program Files\\\\Microsoft SQL Server\\\\160\\\\DTS\\\\Binn;C:\\\\Strawberry\\\\c\\\\bin;C:\\\\Strawberry\\\\perl\\\\site\\\\bin;C:\\\\Strawberry\\\\perl\\\\bin;C:\\\\ProgramData\\\\chocolatey\\\\lib\\\\pulumi\\\\tools\\\\Pulumi\\\\bin;C:\\\\Program Files\\\\CMake\\\\bin;C:\\\\ProgramData\\\\chocolatey\\\\lib\\\\maven\\\\apache-maven-3.8.7\\\\bin;C:\\\\Program Files\\\\Microsoft Service Fabric\\\\bin\\\\Fabric\\\\Fabric.Code;C:\\\\Program Files\\\\Microsoft SDKs\\\\Service Fabric\\\\Tools\\\\ServiceFabricLocalClusterManager;C:\\\\Program Files\\\\nodejs;C:\\\\Program Files\\\\Git\\\\cmd;C:\\\\Program Files\\\\Git\\\\mingw64\\\\bin;C:\\\\Program Files\\\\Git\\\\usr\\\\bin;C:\\\\Program Files\\\\GitHub CLI;C:\\\\tools\\\\php;C:\\\\Program Files (x86)\\\\sbt\\\\bin;C:\\\\Program Files\\\\Amazon\\\\AWSCLIV2;C:\\\\Program Files\\\\Amazon\\\\SessionManagerPlugin\\\\bin;C:\\\\Program Files\\\\Amazon\\\\AWSSAMCLI\\\\bin;C:\\\\Program Files\\\\Microsoft SQL Server\\\\130\\\\Tools\\\\Binn;C:\\\\Program Files\\\\LLVM\\\\bin;C:\\\\Users\\\\VssAdministrator\\\\.dotnet\\\\tools;C:\\\\Users\\\\VssAdministrator\\\\.cargo\\\\bin;C:\\\\Users\\\\VssAdministrator\\\\AppData\\\\Local\\\\Microsoft\\\\WindowsApps;C:\\\\Program Files\\\\Git\\\\usr\\\\bin\\\\vendor_perl;C:\\\\Program Files\\\\Git\\\\usr\\\\bin\\\\core_perl', 'PATHEXT': '.COM;.EXE;.BAT;.CMD;.VBS;.VBE;.JS;.JSE;.WSF;.WSH;.MSC;.CPL', 'PGBIN': 'C:\\\\Program Files\\\\PostgreSQL\\\\14\\\\bin', 'PGDATA': 'C:\\\\Program Files\\\\PostgreSQL\\\\14\\\\data', 'PGPASSWORD': 'root', 'PGROOT': 'C:\\\\Program Files\\\\PostgreSQL\\\\14', 'PGUSER': 'postgres', 'PHPROOT': 'c:\\\\tools\\\\php', 'PIPELINE_REPOSITORY_NAME': 'explosion/cython-blis', 'PIPELINE_WORKSPACE': 'D:\\\\a\\\\1', 'PIPX_BIN_DIR': 'C:\\\\Program Files (x86)\\\\pipx_bin', 'PIPX_HOME': 'C:\\\\Program Files (x86)\\\\pipx', 'PKG_CONFIG_PATH': 'C:\\\\Program Files\\\\Git\\\\mingw64\\\\lib\\\\pkgconfig;C:\\\\Program Files\\\\Git\\\\mingw64\\\\share\\\\pkgconfig', 'PKG_CONFIG_SYSTEM_INCLUDE_PATH': 'C:/Program Files/Git/mingw64/include', 'PKG_CONFIG_SYSTEM_LIBRARY_PATH': 'C:/Program Files/Git/mingw64/lib', 'PLINK_PROTOCOL': 'ssh', 'POWERSHELL_DISTRIBUTION_CHANNEL': 'Azure-DevOps-win22', 'POWERSHELL_UPDATECHECK': 'Off', 'PROCESSOR_ARCHITECTURE': 'AMD64', 'PROCESSOR_IDENTIFIER': 'Intel64 Family 6 Model 79 Stepping 1, GenuineIntel', 'PROCESSOR_LEVEL': '6', 'PROCESSOR_REVISION': '4f01', 'PROGRAMFILES': 'C:\\\\Program Files', 'PROMPT': '$P$G', 'PSEXECUTIONPOLICYPREFERENCE': 'Unrestricted', 'PSMODULEANALYSISCACHEPATH': 'C:\\\\PSModuleAnalysisCachePath\\\\ModuleAnalysisCache', 'PSMODULEPATH': 'C:\\\\Users\\\\VssAdministrator\\\\Documents\\\\WindowsPowerShell\\\\Modules;C:\\\\\\\\Modules\\\\azurerm_2.1.0;C:\\\\\\\\Modules\\\\azure_2.1.0;C:\\\\Users\\\\packer\\\\Documents\\\\WindowsPowerShell\\\\Modules;C:\\\\Program Files\\\\WindowsPowerShell\\\\Modules;C:\\\\Windows\\\\system32\\\\WindowsPowerShell\\\\v1.0\\\\Modules;C:\\\\Program Files\\\\Microsoft SQL Server\\\\130\\\\Tools\\\\PowerShell\\\\Modules\\\\', 'PUBLIC': 'C:\\\\Users\\\\Public', 'PWD': 'D:/a/1/s/flame-blis', 'PYTHON_VERSION': '3.9', 'PROGRAMDATA': 'C:\\\\ProgramData', 'PROGRAMFILES(X86)': 'C:\\\\Program Files (x86)', 'PROGRAMW6432': 'C:\\\\Program Files', 'RESOURCES_TRIGGERINGALIAS': '', 'RESOURCES_TRIGGERINGCATEGORY': '', 'RETIRE_AZURERM_POWERSHELL_MODULE': 'true', 'ROSETTA2_WARNING': 'true', 'RTOOLS44_HOME': 'C:\\\\rtools44', 'RUNNER_TOOLSDIRECTORY': 'C:\\\\hostedtoolcache\\\\windows', 'RUNNER_TOOL_CACHE': 'C:\\\\hostedtoolcache\\\\windows', 'SBT_HOME': 'C:\\\\Program Files (x86)\\\\sbt\\\\', 'SELENIUM_JAR_PATH': 'C:\\\\selenium\\\\selenium-server.jar', 'SHELL': 'C:\\\\Program Files\\\\Git\\\\usr\\\\bin\\\\bash.exe', 'SHLVL': '1', 'SSH_ASKPASS': 'C:/Program Files/Git/mingw64/bin/git-askpass.exe', 'STATS_BLT': 'true', 'STATS_D': 'true', 'STATS_D_D': 'true', 'STATS_D_TC': 'true', 'STATS_EXT': 'true', 'STATS_EXTP': 'https://provjobdprod.z13.web.core.windows.net/settings/provjobdsettings-latest/provjobd.data', 'STATS_PIP': 'false', 'STATS_RDCL': 'true', 'STATS_TRP': 'true', 'STATS_UE': 'true', 'STATS_V3PS': 'true', 'STATS_VMD': 'true', 'STATS_VMFE': 'true', 'SYSTEM': 'build', 'SYSTEMDRIVE': 'C:', 'SYSTEMROOT': 'C:\\\\Windows', 'SYSTEM_ARTIFACTSDIRECTORY': 'D:\\\\a\\\\1\\\\a', 'SYSTEM_COLLECTIONID': '116cc368-5c0c-4eb4-bb44-7f3fa5bdce14', 'SYSTEM_COLLECTIONURI': 'https://dev.azure.com/explosion-ai/', 'SYSTEM_CULTURE': 'en-US', 'SYSTEM_DEBUG': 'false', 'SYSTEM_DEFAULTWORKINGDIRECTORY': 'D:\\\\a\\\\1\\\\s', 'SYSTEM_DEFINITIONID': '6', 'SYSTEM_DEFINITIONNAME': 'explosion.cython-blis', 'SYSTEM_ENABLEACCESSTOKEN': 'SecretVariable', 'SYSTEM_HOSTTYPE': 'build', 'SYSTEM_ISAZUREVM': '1', 'SYSTEM_ISDOCKERCONTAINER': '0', 'SYSTEM_ISSCHEDULED': 'False', 'SYSTEM_JOBATTEMPT': '1', 'SYSTEM_JOBDISPLAYNAME': 'JSONL Python39Windows', 'SYSTEM_JOBID': 'b59b5e76-e04f-54cc-443e-737e71f5428d', 'SYSTEM_JOBIDENTIFIER': 'JSONL.Python39Windows', 'SYSTEM_JOBNAME': 'Python39Windows', 'SYSTEM_JOBPARALLELISMTAG': 'Public', 'SYSTEM_JOBPOSITIONINPHASE': '2', 'SYSTEM_JOBTIMEOUT': '60', 'SYSTEM_OIDCREQUESTURI': 'https://dev.azure.com/explosion-ai/5c6613e9-6ccf-48bd-81de-dbc3b0a6f957/_apis/distributedtask/hubs/build/plans/5471f6a2-5d2d-4ea1-bf2f-6682941b17de/jobs/b59b5e76-e04f-54cc-443e-737e71f5428d/oidctoken', 'SYSTEM_PARALLELEXECUTIONTYPE': 'MultiConfiguration', 'SYSTEM_PHASEATTEMPT': '1', 'SYSTEM_PHASEDISPLAYNAME': 'JSONL', 'SYSTEM_PHASEID': 'ecb95708-c2a5-5456-f379-96cd8090c2a6', 'SYSTEM_PHASENAME': 'JSONL', 'SYSTEM_PIPELINESTARTTIME': '2025-01-10 17:44:05+00:00', 'SYSTEM_PLANID': '5471f6a2-5d2d-4ea1-bf2f-6682941b17de', 'SYSTEM_POSTLINESSPEED': '10000', 'SYSTEM_PULLREQUEST_ISFORK': 'False', 'SYSTEM_SERVERTYPE': 'Hosted', 'SYSTEM_STAGEATTEMPT': '1', 'SYSTEM_STAGEDISPLAYNAME': '__default', 'SYSTEM_STAGEID': '96ac2280-8cb4-5df5-99de-dd2da759617d', 'SYSTEM_STAGENAME': '__default', 'SYSTEM_TASKDEFINITIONSURI': 'https://dev.azure.com/explosion-ai/', 'SYSTEM_TASKDISPLAYNAME': 'Generate JSONL (Windows)', 'SYSTEM_TASKINSTANCEID': 'd4997dda-70a7-5ff3-3edd-fa7524db0f8f', 'SYSTEM_TASKINSTANCENAME': 'CmdLine5', 'SYSTEM_TEAMFOUNDATIONCOLLECTIONURI': 'https://dev.azure.com/explosion-ai/', 'SYSTEM_TEAMFOUNDATIONSERVERURI': 'https://dev.azure.com/explosion-ai/', 'SYSTEM_TEAMPROJECT': 'Public', 'SYSTEM_TEAMPROJECTID': '5c6613e9-6ccf-48bd-81de-dbc3b0a6f957', 'SYSTEM_TIMELINEID': '5471f6a2-5d2d-4ea1-bf2f-6682941b17de', 'SYSTEM_TOTALJOBSINPHASE': '3', 'SYSTEM_WORKFOLDER': 'D:\\\\a', 'TASK_DISPLAYNAME': 'Generate JSONL (Windows)', 'TASK_PUBLISHTELEMETRY': 'True', 'TASK_SKIPTRANSLATORFORCHECKOUT': 'False', 'TEMP': 'C:\\\\Users\\\\VSSADM~1\\\\AppData\\\\Local\\\\Temp', 'TERM': 'xterm-256color', 'TF_BUILD': 'True', 'TMP': 'C:\\\\Users\\\\VSSADM~1\\\\AppData\\\\Local\\\\Temp', 'TMPDIR': 'C:\\\\Users\\\\VSSADM~1\\\\AppData\\\\Local\\\\Temp', 'USEPYTHONVERSION_PYTHONLOCATION': 'C:\\\\hostedtoolcache\\\\windows\\\\Python\\\\3.9.13\\\\x64', 'USERDOMAIN': 'fv-az618-395', 'USERDOMAIN_ROAMINGPROFILE': 'fv-az618-395', 'USERNAME': 'VssAdministrator', 'USERPROFILE': 'C:\\\\Users\\\\VssAdministrator', 'USE_GIT_LONG_PATHS': 'true', 'USE_LATEST_GIT_VERSION': 'true', 'USE_MSAL': 'true', 'USE_MSDEPLOY_TOKEN_AUTH': 'true', 'VCPKG_INSTALLATION_ROOT': 'C:\\\\vcpkg', 'VSTSAGENT_CONTINUE_AFTER_CANCEL_PROCESSTREEKILL_ATTEMPT': 'true', 'VSTSAGENT_DOCKER_ACTION_RETRIES': 'true', 'VSTS_AGENT_PERFLOG': 'c:\\\\vsts\\\\perflog', 'VSTS_PROCESS_LOOKUP_ID': 'vsts_1a8accd9-c4cc-417c-b11d-eed7c6b9f10a', 'WINDIR': 'C:\\\\Windows', 'WIX': 'C:\\\\Program Files (x86)\\\\WiX Toolset v3.14\\\\', '_': 'C:/hostedtoolcache/windows/Python/3.9.13/x64/python', 'AGENT.JOBSTATUS': 'Succeeded', 'NPM_CONFIG_PREFIX': 'C:\\\\npm\\\\prefix'}\n",
      "      [COMMAND] C:\\Program Files\\LLVM\\bin\\clang.exe -c C:\\Users\\colle\\AppData\\Local\\Temp\\pip-install-hcz0_9yl\\blis_f4b687d454ed444985452fbfed21295b\\blis\\_src\\config\\bulldozer\\bli_cntx_init_bulldozer.c -o C:\\Users\\colle\\AppData\\Local\\Temp\\tmpen_uv_h_\\bli_cntx_init_bulldozer.o -O3 -std=c99 -D_POSIX_C_SOURCE=200112L -DBLIS_VERSION_STRING=\"0.7.0\" -DBLIS_IS_BUILDING_LIBRARY -Iinclude\\windows-x86_64 -I.\\frame\\3\\ -I.\\frame\\ind\\ukernels\\ -I.\\frame\\3\\ -I.\\frame\\1m\\ -I.\\frame\\1f\\ -I.\\frame\\1\\ -I.\\frame\\include -IC:\\Users\\colle\\AppData\\Local\\Temp\\pip-install-hcz0_9yl\\blis_f4b687d454ed444985452fbfed21295b\\blis\\_src\\include\\windows-x86_64\n",
      "      error: [WinError 2] The system cannot find the file specified\n",
      "      [end of output]\n",
      "  \n",
      "  note: This error originates from a subprocess, and is likely not a problem with pip.\n",
      "  ERROR: Failed building wheel for blis\n",
      "ERROR: Could not build wheels for blis, which is required to install pyproject.toml-based projects\n"
     ]
    }
   ],
   "source": [
    "!pip install SpaCy"
   ]
  },
  {
   "cell_type": "code",
   "execution_count": 2,
   "metadata": {},
   "outputs": [],
   "source": [
    "# inputs\n",
    "full_data_fp = \"../data/ner.csv\"\n",
    "\n",
    "# outputs\n",
    "train_save_fp = \"../data/train.csv\"\n",
    "test_save_fp = \"../data/test.csv\""
   ]
  },
  {
   "cell_type": "code",
   "execution_count": 3,
   "metadata": {},
   "outputs": [
    {
     "name": "stdout",
     "output_type": "stream",
     "text": [
      "(47959, 2)\n"
     ]
    },
    {
     "data": {
      "text/html": [
       "<div>\n",
       "<style scoped>\n",
       "    .dataframe tbody tr th:only-of-type {\n",
       "        vertical-align: middle;\n",
       "    }\n",
       "\n",
       "    .dataframe tbody tr th {\n",
       "        vertical-align: top;\n",
       "    }\n",
       "\n",
       "    .dataframe thead th {\n",
       "        text-align: right;\n",
       "    }\n",
       "</style>\n",
       "<table border=\"1\" class=\"dataframe\">\n",
       "  <thead>\n",
       "    <tr style=\"text-align: right;\">\n",
       "      <th></th>\n",
       "      <th>text</th>\n",
       "      <th>labels</th>\n",
       "    </tr>\n",
       "  </thead>\n",
       "  <tbody>\n",
       "    <tr>\n",
       "      <th>0</th>\n",
       "      <td>Thousands of demonstrators have marched throug...</td>\n",
       "      <td>O O O O O O B-geo O O O O O B-geo O O O O O B-...</td>\n",
       "    </tr>\n",
       "    <tr>\n",
       "      <th>1</th>\n",
       "      <td>Iranian officials say they expect to get acces...</td>\n",
       "      <td>B-gpe O O O O O O O O O O O O O O B-tim O O O ...</td>\n",
       "    </tr>\n",
       "    <tr>\n",
       "      <th>2</th>\n",
       "      <td>Helicopter gunships Saturday pounded militant ...</td>\n",
       "      <td>O O B-tim O O O O O B-geo O O O O O B-org O O ...</td>\n",
       "    </tr>\n",
       "    <tr>\n",
       "      <th>3</th>\n",
       "      <td>They left after a tense hour-long standoff wit...</td>\n",
       "      <td>O O O O O O O O O O O</td>\n",
       "    </tr>\n",
       "    <tr>\n",
       "      <th>4</th>\n",
       "      <td>U.N. relief coordinator Jan Egeland said Sunda...</td>\n",
       "      <td>B-geo O O B-per I-per O B-tim O B-geo O B-gpe ...</td>\n",
       "    </tr>\n",
       "  </tbody>\n",
       "</table>\n",
       "</div>"
      ],
      "text/plain": [
       "                                                text  \\\n",
       "0  Thousands of demonstrators have marched throug...   \n",
       "1  Iranian officials say they expect to get acces...   \n",
       "2  Helicopter gunships Saturday pounded militant ...   \n",
       "3  They left after a tense hour-long standoff wit...   \n",
       "4  U.N. relief coordinator Jan Egeland said Sunda...   \n",
       "\n",
       "                                              labels  \n",
       "0  O O O O O O B-geo O O O O O B-geo O O O O O B-...  \n",
       "1  B-gpe O O O O O O O O O O O O O O B-tim O O O ...  \n",
       "2  O O B-tim O O O O O B-geo O O O O O B-org O O ...  \n",
       "3                              O O O O O O O O O O O  \n",
       "4  B-geo O O B-per I-per O B-tim O B-geo O B-gpe ...  "
      ]
     },
     "execution_count": 3,
     "metadata": {},
     "output_type": "execute_result"
    }
   ],
   "source": [
    "df = pd.read_csv(full_data_fp)\n",
    "print(df.shape)\n",
    "df.head()"
   ]
  },
  {
   "cell_type": "code",
   "execution_count": 4,
   "metadata": {},
   "outputs": [
    {
     "data": {
      "text/plain": [
       "text      0\n",
       "labels    0\n",
       "dtype: int64"
      ]
     },
     "execution_count": 4,
     "metadata": {},
     "output_type": "execute_result"
    }
   ],
   "source": [
    "df.isna().sum()"
   ]
  },
  {
   "cell_type": "code",
   "execution_count": 5,
   "metadata": {},
   "outputs": [
    {
     "data": {
      "text/plain": [
       "text      object\n",
       "labels    object\n",
       "dtype: object"
      ]
     },
     "execution_count": 5,
     "metadata": {},
     "output_type": "execute_result"
    }
   ],
   "source": [
    "df.dtypes"
   ]
  },
  {
   "cell_type": "code",
   "execution_count": 6,
   "metadata": {},
   "outputs": [
    {
     "name": "stdout",
     "output_type": "stream",
     "text": [
      "text: Pakistani authorities say gunmen on a motorcycle have killed three Chinese engineers and their Pakistani driver in the troubled southwestern Baluchistan province .\n",
      "labels: B-gpe O O O O O O O O O B-gpe O O O B-gpe O O O O O B-geo O O\n",
      "\n",
      "text: The comments are also the first public acknowledgment that Tehran has received the Russian offer .\n",
      "labels: O O O O O O O O O B-org O O O B-gpe O O\n",
      "\n",
      "text: Officials with the local coal mine safety bureau said Friday that gas density in the mine is so high it makes rescue efforts dangerous .\n",
      "labels: O O O O O O O O O B-tim O O O O O O O O O O O O O O O\n",
      "\n",
      "text: Pakistani police say a bomb has exploded outside a Shi'ite mosque in the country 's northwest , killing at least four people .\n",
      "labels: B-gpe O O O O O O O O O O O O O O O O O O O O O O\n",
      "\n",
      "text: Venezuelan President Hugo Chavez says he plans to raise taxes on foreign oil companies in Venezuela .\n",
      "labels: B-gpe B-per I-per I-per O O O O O O O O O O O B-geo O\n",
      "\n",
      "text: It says its North American division is struggling .\n",
      "labels: O O O O B-gpe O O O O\n",
      "\n",
      "text: The U.N. chief says it is important to work quickly to reform the global financial system .\n",
      "labels: O B-org O O O O O O O O O O O O O O O\n",
      "\n",
      "text: Sandstorms can be caused by heavy winds blowing across deserts , or across land that has lost its fertile top soil and greenery .\n",
      "labels: O O O O O O O O O O O O O O O O O O O O O O O O\n",
      "\n",
      "text: The U.S. Internet giant Google is planning to install solar panels at its headquarters in the western state of California to run some of its operations with energy from the sun .\n",
      "labels: O B-org O O B-org O O O O O O O O O O O O O O B-geo O O O O O O O O O O O O\n",
      "\n",
      "text: A leading Syrian human rights activist , who faces trial for allegedly defaming Syria 's image , has been awarded a prestigious international human rights award .\n",
      "labels: O O B-gpe O O O O O O O O O O B-geo O O O O O O O O O O O O O\n",
      "\n",
      "text: Muslim separatists in Indonesia 's Aceh region have been fighting for independence for more than three decades .\n",
      "labels: B-org O O B-geo O B-tim O O O O O O O O O O O O\n",
      "\n",
      "text: Senior officers say Fazul Abdullah Mohammed escaped a police raid in the Kenyan coastal town of Malindi late Saturday .\n",
      "labels: O O O B-org I-org I-org O O O O O O B-gpe O O O B-geo O B-tim O\n",
      "\n",
      "text: Local officials dispute the account and say as many as 22 civilians were killed .\n",
      "labels: O O O O O O O O O O O O O O O\n",
      "\n",
      "text: Iran has denied allegations by an exiled opposition group that said Tehran has a secret nuclear weapons facility .\n",
      "labels: B-geo O O O O O O O O O O B-org O O O O O O O\n",
      "\n",
      "text: Against this backdrop , Iraq is preparing for Thursday 's parliamentary election .\n",
      "labels: O O O O B-geo O O O B-tim O O O O\n",
      "\n",
      "text: Ms. Hughes will join Secretary of State Condoleezza Rice in leading the president 's push for democracy in the Middle East .\n",
      "labels: B-per B-org O O O O B-org B-per I-per O O O O O O O O O O B-geo I-geo O\n",
      "\n",
      "text: Alan Garcia said Monday in Lima that Peru should use its military attack aircraft to bomb and machine-gun coca processing facilities and the airports used to transport drugs .\n",
      "labels: B-per I-per O B-tim O B-geo O B-gpe O O O O O O O O O O O O O O O O O O O O O\n",
      "\n",
      "text: A previously unknown group , the Baluchistan Liberation United Front , is threatening to kill Solecki if Pakistan 's government does not release Baluch prisoners .\n",
      "labels: O O O O O O B-org I-org I-org I-org O O O O O B-per O B-geo O O O O O B-org O O\n",
      "\n",
      "text: Earlier this week , the PKK released three German tourists seized during an expedition to Turkey 's Mount Ararat July 8 .\n",
      "labels: O O O O O B-org O O B-gpe O O O O O O B-org I-org I-org I-org B-tim I-tim O\n",
      "\n",
      "text: The statement says security forces seized a large supply of arms , ammunition , explosives and documents during the raid .\n",
      "labels: O O O O O O O O O O O O O O O O O O O O O\n",
      "\n"
     ]
    }
   ],
   "source": [
    "nrows = 20\n",
    "for row in df.sample(nrows).values:\n",
    "    print(f\"text: {row[0]}\\nlabels: {row[1]}\\n\")"
   ]
  },
  {
   "cell_type": "code",
   "execution_count": 7,
   "metadata": {},
   "outputs": [
    {
     "data": {
      "text/plain": [
       "'O O O O O O B-geo O O O O O B-geo O O O O O B-gpe O O O O O'"
      ]
     },
     "execution_count": 7,
     "metadata": {},
     "output_type": "execute_result"
    }
   ],
   "source": [
    "label1 = df[\"labels\"].values[0]\n",
    "label1"
   ]
  },
  {
   "cell_type": "code",
   "execution_count": 8,
   "metadata": {},
   "outputs": [],
   "source": [
    "def process_labels(label_text: str) -> list:\n",
    "    text_split = [0 if t == \"O\" else t for t in label_text.split()]\n",
    "    return text_split\n",
    "    "
   ]
  },
  {
   "cell_type": "markdown",
   "metadata": {},
   "source": [
    "# Spacy NER\n",
    "\n",
    "[NER Tutorial](https://www.youtube.com/watch?v=2XUhKpH0p4M)"
   ]
  },
  {
   "cell_type": "code",
   "execution_count": null,
   "metadata": {},
   "outputs": [
    {
     "ename": "",
     "evalue": "",
     "output_type": "error",
     "traceback": [
      "\u001b[1;31mRunning cells with 'nlp-env (Python 3.9.21)' requires the ipykernel package.\n",
      "\u001b[1;31m<a href='command:jupyter.createPythonEnvAndSelectController'>Create a Python Environment</a> with the required packages.\n",
      "\u001b[1;31mOr install 'ipykernel' using the command: 'conda install -n nlp-env ipykernel --update-deps --force-reinstall'"
     ]
    }
   ],
   "source": [
    "# !pip install spacy"
   ]
  },
  {
   "cell_type": "code",
   "execution_count": 9,
   "metadata": {},
   "outputs": [
    {
     "ename": "ModuleNotFoundError",
     "evalue": "No module named 'spacy'",
     "output_type": "error",
     "traceback": [
      "\u001b[1;31m---------------------------------------------------------------------------\u001b[0m",
      "\u001b[1;31mModuleNotFoundError\u001b[0m                       Traceback (most recent call last)",
      "Cell \u001b[1;32mIn[9], line 1\u001b[0m\n\u001b[1;32m----> 1\u001b[0m \u001b[38;5;28;01mimport\u001b[39;00m \u001b[38;5;21;01mspacy\u001b[39;00m\n\u001b[0;32m      3\u001b[0m nlp \u001b[38;5;241m=\u001b[39m spacy\u001b[38;5;241m.\u001b[39mload(\u001b[38;5;124m\"\u001b[39m\u001b[38;5;124men_core_web_sm\u001b[39m\u001b[38;5;124m\"\u001b[39m)\n",
      "\u001b[1;31mModuleNotFoundError\u001b[0m: No module named 'spacy'"
     ]
    }
   ],
   "source": [
    "import spacy\n",
    "\n",
    "nlp = spacy.load(\"en_core_web_sm\")"
   ]
  },
  {
   "cell_type": "code",
   "execution_count": null,
   "metadata": {},
   "outputs": [],
   "source": [
    "nlp.pipe_names"
   ]
  },
  {
   "cell_type": "code",
   "execution_count": null,
   "metadata": {},
   "outputs": [],
   "source": [
    "txt = \"Tesla Inc is going to acquire twitter for $45 billion.\"\n",
    "doc = nlp(txt)\n",
    "for ent in doc.ents:\n",
    "    print(ent.txt, \"|\", ent.label_, \"|\", spacy.explain(ent.label_))"
   ]
  }
 ],
 "metadata": {
  "kernelspec": {
   "display_name": "base",
   "language": "python",
   "name": "python3"
  },
  "language_info": {
   "codemirror_mode": {
    "name": "ipython",
    "version": 3
   },
   "file_extension": ".py",
   "mimetype": "text/x-python",
   "name": "python",
   "nbconvert_exporter": "python",
   "pygments_lexer": "ipython3",
   "version": "3.9.13"
  }
 },
 "nbformat": 4,
 "nbformat_minor": 2
}
